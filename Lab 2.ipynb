{
 "cells": [
  {
   "cell_type": "code",
   "execution_count": 26,
   "id": "3550986f",
   "metadata": {},
   "outputs": [
    {
     "name": "stdout",
     "output_type": "stream",
     "text": [
      "[[20  6  2]\n",
      " [16  3  6]\n",
      " [27  6  2]\n",
      " [19  1  2]\n",
      " [24  4  2]\n",
      " [22  1  5]\n",
      " [15  4  2]\n",
      " [18  4  2]\n",
      " [21  1  4]\n",
      " [16  2  4]]\n",
      "[[386]\n",
      " [289]\n",
      " [393]\n",
      " [110]\n",
      " [280]\n",
      " [167]\n",
      " [271]\n",
      " [274]\n",
      " [148]\n",
      " [198]]\n"
     ]
    }
   ],
   "source": [
    "import pandas as pd\n",
    "\n",
    "file_path = 'C:\\\\Users\\\\YASWANTH\\\\Downloads\\\\Lab Session Data.xlsx'\n",
    "sheet_name = 'Purchase data'\n",
    "data = pd.read_excel(file_path, sheet_name=sheet_name)\n",
    "\n",
    "A_columns = ['Candies (#)', 'Mangoes (Kg)', 'Milk Packets (#)']\n",
    "C_column = 'Payment (Rs)'\n",
    "\n",
    "# Segregate the data into matrices A and C\n",
    "A = purchase_data[['Candies (#)', 'Mangoes (Kg)', 'Milk Packets (#)']].values\n",
    "C = purchase_data['Payment (Rs)'].values.reshape(-1, 1)\n",
    "\n",
    "# printing the matrix to understand\n",
    "print(A)\n",
    "print(C)"
   ]
  },
  {
   "cell_type": "code",
   "execution_count": 27,
   "id": "563d474d",
   "metadata": {},
   "outputs": [
    {
     "name": "stdout",
     "output_type": "stream",
     "text": [
      "Dimensionality of the vector space is : 3\n"
     ]
    }
   ],
   "source": [
    "# finding the dimensionality of vector space\n",
    "def dimensionality(A):\n",
    "    dim = A.shape[1]\n",
    "    return dim\n",
    "\n",
    "dim = dimensionality(A)\n",
    "\n",
    "print('Dimensionality of the vector space is :',dim)"
   ]
  },
  {
   "cell_type": "code",
   "execution_count": 28,
   "id": "b838b747",
   "metadata": {},
   "outputs": [
    {
     "name": "stdout",
     "output_type": "stream",
     "text": [
      "Number of vectors in the vector space is: 10\n"
     ]
    }
   ],
   "source": [
    "# finding no of vectors in vector space\n",
    "def no_of_vectors(A):\n",
    "    count = A.shape[0]\n",
    "    return count\n",
    "\n",
    "no_vectors = no_of_vectors(A)\n",
    "\n",
    "print('Number of vectors in the vector space is:', no_vectors)"
   ]
  },
  {
   "cell_type": "code",
   "execution_count": 29,
   "id": "f77203fb",
   "metadata": {},
   "outputs": [
    {
     "name": "stdout",
     "output_type": "stream",
     "text": [
      "Rank of matrix A is: 3\n"
     ]
    }
   ],
   "source": [
    "# finding the rank of the matrix\n",
    "import numpy as np\n",
    "\n",
    "def rank_matrix(A):\n",
    "    rank = np.linalg.matrix_rank(A)\n",
    "    return rank\n",
    "\n",
    "rank = rank_matrix(A)\n",
    "\n",
    "print('Rank of matrix A is:', rank)"
   ]
  },
  {
   "cell_type": "code",
   "execution_count": 36,
   "id": "4be32f93",
   "metadata": {
    "scrolled": true
   },
   "outputs": [
    {
     "name": "stdout",
     "output_type": "stream",
     "text": [
      "Cost of each product is: [[ 1.]\n",
      " [55.]\n",
      " [18.]]\n",
      "Cost of each product:\n",
      "Candies (#): Rs 1.00\n",
      "Mangoes (Kg): Rs 55.00\n",
      "Milk Packets (#): Rs 18.00\n"
     ]
    }
   ],
   "source": [
    "# Function to calculate the cost of each product using pseudo-inverse\n",
    "def calculate_costs(A, C):\n",
    "    pseudo_inv_A = np.linalg.pinv(A)\n",
    "    costs = np.dot(pseudo_inv_A, C)\n",
    "    return costs\n",
    "\n",
    "cost = calculate_costs(A,C)\n",
    "\n",
    "print('Cost of each product is:', cost)\n",
    "\n",
    "# Print the costs with product names\n",
    "product_names = A_columns\n",
    "cost_dict = {product_names[i]: cost[i][0] for i in range(len(product_names))}\n",
    "print('Cost of each product:')\n",
    "for product, cost in cost_dict.items():\n",
    "    print(f'{product}: Rs {cost:.2f}')"
   ]
  },
  {
   "cell_type": "code",
   "execution_count": 34,
   "id": "623536f3",
   "metadata": {},
   "outputs": [
    {
     "name": "stdout",
     "output_type": "stream",
     "text": [
      "Model vector X for predicting the cost of the products is:\n",
      " [[ 1.]\n",
      " [55.]\n",
      " [18.]]\n"
     ]
    }
   ],
   "source": [
    "def calculate_model_vector(A, C):\n",
    "    pseudo_inv_A = np.linalg.pinv(A)\n",
    "    X = np.dot(pseudo_inv_A, C)\n",
    "    return X\n",
    "\n",
    "X = calculate_model_vector(A, C)\n",
    "\n",
    "print('Model vector X for predicting the cost of the products is:\\n', X)"
   ]
  },
  {
   "cell_type": "code",
   "execution_count": 33,
   "id": "299275b1",
   "metadata": {},
   "outputs": [
    {
     "name": "stdout",
     "output_type": "stream",
     "text": [
      "Data with Class:\n",
      "   Customer  Candies (#)  Mangoes (Kg)  Milk Packets (#)  Payment (Rs)  \\\n",
      "0      C_1           20             6                 2           386   \n",
      "1      C_2           16             3                 6           289   \n",
      "2      C_3           27             6                 2           393   \n",
      "3      C_4           19             1                 2           110   \n",
      "4      C_5           24             4                 2           280   \n",
      "5      C_6           22             1                 5           167   \n",
      "6      C_7           15             4                 2           271   \n",
      "7      C_8           18             4                 2           274   \n",
      "8      C_9           21             1                 4           148   \n",
      "9     C_10           16             2                 4           198   \n",
      "\n",
      "   Unnamed: 5  Unnamed: 6  Unnamed: 7  Unnamed: 8  Unnamed: 9  ...  \\\n",
      "0         NaN         NaN         NaN         NaN         NaN  ...   \n",
      "1         NaN         NaN         NaN         NaN         NaN  ...   \n",
      "2         NaN         NaN         NaN         NaN         NaN  ...   \n",
      "3         NaN         NaN         NaN         NaN         NaN  ...   \n",
      "4         NaN         NaN         NaN         NaN         NaN  ...   \n",
      "5         NaN         NaN         NaN         NaN         NaN  ...   \n",
      "6         NaN         NaN         NaN         NaN         NaN  ...   \n",
      "7         NaN         NaN         NaN         NaN         NaN  ...   \n",
      "8         NaN         NaN         NaN         NaN         NaN  ...   \n",
      "9         NaN         NaN         NaN         NaN         NaN  ...   \n",
      "\n",
      "   Unnamed: 13  Unnamed: 14  Unnamed: 15  Unnamed: 16  Unnamed: 17  \\\n",
      "0          NaN          NaN          NaN          NaN          NaN   \n",
      "1          NaN          NaN          NaN          NaN          NaN   \n",
      "2          NaN          NaN          NaN          NaN          NaN   \n",
      "3          NaN          NaN          NaN          NaN          NaN   \n",
      "4          NaN          NaN          NaN          NaN          NaN   \n",
      "5          NaN          NaN          NaN          NaN          NaN   \n",
      "6          NaN          NaN          NaN          NaN          NaN   \n",
      "7          NaN          NaN          NaN          NaN          NaN   \n",
      "8          NaN          NaN          NaN          NaN          NaN   \n",
      "9          NaN          NaN          NaN          NaN          NaN   \n",
      "\n",
      "   Unnamed: 18  Candy  Mango  Milk  Class  \n",
      "0          NaN    1.0   55.0  18.0   RICH  \n",
      "1          NaN    NaN    NaN   NaN   RICH  \n",
      "2          NaN    NaN    NaN   NaN   RICH  \n",
      "3          NaN    NaN    NaN   NaN   POOR  \n",
      "4          NaN    NaN    NaN   NaN   RICH  \n",
      "5          NaN    NaN    NaN   NaN   POOR  \n",
      "6          NaN    NaN    NaN   NaN   RICH  \n",
      "7          NaN    NaN    NaN   NaN   RICH  \n",
      "8          NaN    NaN    NaN   NaN   POOR  \n",
      "9          NaN    NaN    NaN   NaN   POOR  \n",
      "\n",
      "[10 rows x 23 columns]\n"
     ]
    }
   ],
   "source": [
    "# Create a new column 'Class' based on the payment amount\n",
    "data['Class'] = data['Payment (Rs)'].apply(lambda x: 'RICH' if x > 200 else 'POOR')\n",
    "\n",
    "# Display the updated DataFrame\n",
    "print(\"Data with Class:\\n\", data.head(10))"
   ]
  },
  {
   "cell_type": "code",
   "execution_count": 37,
   "id": "57eefc13",
   "metadata": {},
   "outputs": [],
   "source": [
    "file_path = 'C:\\\\Users\\\\YASWANTH\\\\Downloads\\\\Lab Session Data.xlsx'\n",
    "sheet_name = 'IRCTC Stock Price'\n",
    "data = pd.read_excel(file_path, sheet_name=sheet_name)"
   ]
  },
  {
   "cell_type": "code",
   "execution_count": 46,
   "id": "bd2c91f2",
   "metadata": {},
   "outputs": [
    {
     "name": "stdout",
     "output_type": "stream",
     "text": [
      "Mean of the Price data: 1560.663453815261\n",
      "Variance of the Price data: 58732.365352539186\n"
     ]
    }
   ],
   "source": [
    "price_column = data.iloc[:, 3]\n",
    "import statistics\n",
    "\n",
    "def calculate_price_statistics(price_column):\n",
    "    mean_price = statistics.mean(price_column)\n",
    "    variance_price = statistics.variance(price_column)\n",
    "    return mean_price, variance_price\n",
    "\n",
    "mean, variance = calculate_price_statistics(price_column)\n",
    "print(\"Mean of the Price data:\",mean)\n",
    "print(\"Variance of the Price data:\",variance)"
   ]
  },
  {
   "cell_type": "code",
   "execution_count": 52,
   "id": "27bd4cbe",
   "metadata": {},
   "outputs": [
    {
     "name": "stdout",
     "output_type": "stream",
     "text": [
      "Population Mean of the Price data: 1560.663453815261\n",
      "Sample Mean of the Price data for Wednesdays: 1550.706\n"
     ]
    }
   ],
   "source": [
    "price_column = data.iloc[:, 3]\n",
    "# Filter data for Wednesdays\n",
    "wednesdays = data[data['Day'] == 'Wed']\n",
    "# Extract prices for Wednesdays\n",
    "wednesday_prices = wednesdays.iloc[:, 3]\n",
    "    \n",
    "def comparing_sample(price_column, sample_prices):\n",
    "    # Calculate population mean\n",
    "    population_mean = statistics.mean(price_column)\n",
    "    # Calculate sample mean for Wednesdays\n",
    "    sample_mean = statistics.mean(sample_prices)\n",
    "    return population_mean, sample_mean\n",
    "\n",
    "population_mean, sample_mean_wednesdays = comparing_sample(price_column, wednesday_prices)\n",
    "\n",
    "print(\"Population Mean of the Price data:\",population_mean)\n",
    "print(\"Sample Mean of the Price data for Wednesdays:\",sample_mean_wednesdays)\n"
   ]
  },
  {
   "cell_type": "code",
   "execution_count": 53,
   "id": "657755d8",
   "metadata": {},
   "outputs": [
    {
     "name": "stdout",
     "output_type": "stream",
     "text": [
      "Population Mean of the Price data: 1560.663453815261\n",
      "Sample Mean of the Price data for April: 1698.9526315789474\n"
     ]
    }
   ],
   "source": [
    "price_column = data.iloc[:, 3]\n",
    "# Filter data for April\n",
    "Apr = data[data['Month'] == 'Apr']\n",
    "# Extract prices for April\n",
    "Apr_prices = Apr.iloc[:, 3]\n",
    "\n",
    "population_mean, sample_mean_apr = comparing_sample(price_column, Apr_prices)\n",
    "\n",
    "print(\"Population Mean of the Price data:\",population_mean)\n",
    "print(\"Sample Mean of the Price data for April:\",sample_mean_apr)"
   ]
  },
  {
   "cell_type": "code",
   "execution_count": 56,
   "id": "38c961d0",
   "metadata": {},
   "outputs": [
    {
     "name": "stdout",
     "output_type": "stream",
     "text": [
      "Probability of making a loss over the stock:  0.4979919678714859\n"
     ]
    }
   ],
   "source": [
    "chg_column = data.iloc[:, 8]\n",
    "def calculate_loss_probability(column):\n",
    "    # Calculate the probability of making a loss\n",
    "    # A loss is represented by a negative percentage change\n",
    "    num_losses = (column < 0).sum()\n",
    "    total_entries = len(column)\n",
    "    # Calculate the probability    \n",
    "    probability_of_loss = num_losses / total_entries\n",
    "    return probability_of_loss\n",
    "\n",
    "probability = calculate_loss_probability(chg_column)\n",
    "\n",
    "print(\"Probability of making a loss over the stock: \",probability)"
   ]
  },
  {
   "cell_type": "code",
   "execution_count": 58,
   "id": "18d9df13",
   "metadata": {},
   "outputs": [
    {
     "name": "stdout",
     "output_type": "stream",
     "text": [
      "Probability of making a loss over the stock:  0.42\n"
     ]
    }
   ],
   "source": [
    "# Filter data for Wednesday\n",
    "Wed = data[data['Day'] == 'Wed']\n",
    "# Extract chg% for April\n",
    "Wed_chg = Wed.iloc[:, 8]\n",
    "\n",
    "def calculate_profit_probability(column):\n",
    "    # Calculate the probability of making a profit\n",
    "    # A profit is represented by a positive percentage change\n",
    "    num_profit = (column > 0).sum()\n",
    "    total_entries = len(column)\n",
    "    # Calculate the probability    \n",
    "    probability_of_profit = num_profit / total_entries\n",
    "    return probability_of_profit\n",
    "\n",
    "probability = calculate_profit_probability(Wed_chg)\n",
    "\n",
    "print(\"Probability of making a loss over the stock: \",probability)"
   ]
  },
  {
   "cell_type": "code",
   "execution_count": 60,
   "id": "fa5bd21d",
   "metadata": {},
   "outputs": [
    {
     "name": "stdout",
     "output_type": "stream",
     "text": [
      "Conditional Probability of making a profit given that today is Wednesday:  0.8433870967741935\n"
     ]
    }
   ],
   "source": [
    "chg_column = data.iloc[:, 8]\n",
    "# Filter data for Wednesdays\n",
    "wednesdays = data[data['Day'] == 'Wed']\n",
    "# Extract chg% for Wednesdays\n",
    "wednesday_chg = wednesdays.iloc[:, 8]\n",
    "\n",
    "def calculate_conditional_profit_probability(column1, column2):\n",
    "    sample = calculate_profit_probability(column1)\n",
    "    total = calculate_profit_probability(column2)\n",
    "    # Calculate the conditional probability\n",
    "    conditional_probability = sample / total\n",
    "    \n",
    "    return conditional_probability\n",
    "\n",
    "conditional_probability = calculate_conditional_profit_probability(wednesday_chg, chg_column)\n",
    "print(\"Conditional Probability of making a profit given that today is Wednesday: \",conditional_probability)"
   ]
  },
  {
   "cell_type": "code",
   "execution_count": 66,
   "id": "8baf27ef",
   "metadata": {},
   "outputs": [
    {
     "data": {
      "image/png": "[encoded data removed]",
      "text/plain": [
       "<Figure size 640x480 with 1 Axes>"
      ]
     },
     "metadata": {},
     "output_type": "display_data"
    }
   ],
   "source": [
    "import matplotlib.pyplot as plt\n",
    "\n",
    "day_column = data.iloc[:, 2]\n",
    "chg_column = data.iloc[:, 8]\n",
    "    \n",
    "def scatter_plot(xaxis,yaxis): \n",
    "    # Plot the data\n",
    "    plt.scatter(xaxis , yaxis)\n",
    "    plt.xlabel('Day of the Week')\n",
    "    plt.ylabel('Chg%')\n",
    "    plt.title('Scatter Plot of Chg% vs Day of the Week')\n",
    "    \n",
    "scatter_plot(day_column, chg_column)\n"
   ]
  },
  {
   "cell_type": "code",
   "execution_count": 68,
   "id": "c565f490",
   "metadata": {},
   "outputs": [],
   "source": [
    "file_path = 'C:\\\\Users\\\\YASWANTH\\\\Downloads\\\\Lab Session Data.xlsx'\n",
    "sheet_name = 'thyroid0387_UCI'\n",
    "data = pd.read_excel(file_path, sheet_name=sheet_name)"
   ]
  },
  {
   "cell_type": "code",
   "execution_count": 69,
   "id": "87112391",
   "metadata": {},
   "outputs": [
    {
     "name": "stdout",
     "output_type": "stream",
     "text": [
      "\n",
      "Data Types:\n",
      " Record ID                     int64\n",
      "age                           int64\n",
      "sex                          object\n",
      "on thyroxine                 object\n",
      "query on thyroxine           object\n",
      "on antithyroid medication    object\n",
      "sick                         object\n",
      "pregnant                     object\n",
      "thyroid surgery              object\n",
      "I131 treatment               object\n",
      "query hypothyroid            object\n",
      "query hyperthyroid           object\n",
      "lithium                      object\n",
      "goitre                       object\n",
      "tumor                        object\n",
      "hypopituitary                object\n",
      "psych                        object\n",
      "TSH measured                 object\n",
      "TSH                          object\n",
      "T3 measured                  object\n",
      "T3                           object\n",
      "TT4 measured                 object\n",
      "TT4                          object\n",
      "T4U measured                 object\n",
      "T4U                          object\n",
      "FTI measured                 object\n",
      "FTI                          object\n",
      "TBG measured                 object\n",
      "TBG                          object\n",
      "referral source              object\n",
      "Condition                    object\n",
      "dtype: object\n",
      "\n",
      "Attribute Data Types:\n",
      " {'Record ID': 'Ratio', 'age': 'Ratio', 'sex': 'Nominal (Categorical)', 'on thyroxine': 'Nominal (Categorical)', 'query on thyroxine': 'Nominal (Categorical)', 'on antithyroid medication': 'Nominal (Categorical)', 'sick': 'Nominal (Categorical)', 'pregnant': 'Nominal (Categorical)', 'thyroid surgery': 'Nominal (Categorical)', 'I131 treatment': 'Nominal (Categorical)', 'query hypothyroid': 'Nominal (Categorical)', 'query hyperthyroid': 'Nominal (Categorical)', 'lithium': 'Nominal (Categorical)', 'goitre': 'Nominal (Categorical)', 'tumor': 'Nominal (Categorical)', 'hypopituitary': 'Nominal (Categorical)', 'psych': 'Nominal (Categorical)', 'TSH measured': 'Nominal (Categorical)', 'TSH': 'Textual Data', 'T3 measured': 'Nominal (Categorical)', 'T3': 'Textual Data', 'TT4 measured': 'Nominal (Categorical)', 'TT4': 'Textual Data', 'T4U measured': 'Nominal (Categorical)', 'T4U': 'Textual Data', 'FTI measured': 'Nominal (Categorical)', 'FTI': 'Textual Data', 'TBG measured': 'Nominal (Categorical)', 'TBG': 'Textual Data', 'referral source': 'Nominal (Categorical)', 'Condition': 'Textual Data'}\n"
     ]
    }
   ],
   "source": [
    "def identify_attribute_data_types(file_path, sheet_name):\n",
    "    # Display data types of each column\n",
    "    print(\"\\nData Types:\\n\", data.dtypes)\n",
    "    # Identify and display the datatype (nominal, ordinal, interval, ratio) for each column\n",
    "    # For simplicity, we'll use descriptive labels based on common understanding\n",
    "    attribute_types = {}\n",
    "    for column in data.columns:\n",
    "        dtype = data[column].dtype\n",
    "        if dtype == 'object':  # Typically for categorical data (nominal or ordinal)\n",
    "            unique_values = data[column].unique()\n",
    "            if len(unique_values) < 20:  # Small number of unique values, could be categorical\n",
    "                attribute_types[column] = 'Nominal (Categorical)'\n",
    "            else:\n",
    "                attribute_types[column] = 'Textual Data'       \n",
    "        elif dtype in ['int64', 'float64']:  # Numeric data\n",
    "            if data[column].min() >= 0:  # All non-negative, could be ratio data\n",
    "                attribute_types[column] = 'Ratio'\n",
    "            else:\n",
    "                attribute_types[column] = 'Interval'  # Generally used for continuous data\n",
    "        else:\n",
    "            attribute_types[column] = 'Unknown Data Type'\n",
    "    print(\"\\nAttribute Data Types:\\n\", attribute_types)\n",
    "\n",
    "identify_attribute_data_types('C:\\\\Users\\\\YASWANTH\\\\Downloads\\\\Lab Session Data.xlsx', 'thyroid0387_UCI')\n"
   ]
  },
  {
   "cell_type": "code",
   "execution_count": null,
   "id": "1cbd220a",
   "metadata": {},
   "outputs": [],
   "source": [
    "5.2"
   ]
  },
  {
   "cell_type": "code",
   "execution_count": 71,
   "id": "358cfd12",
   "metadata": {},
   "outputs": [
    {
     "name": "stdout",
     "output_type": "stream",
     "text": [
      "Numeric Columns:\n",
      " Index(['Record ID', 'age'], dtype='object')\n",
      "Range for 'Record ID': Min = 840801013, Max = 870119035\n",
      "Range for 'age': Min = 1, Max = 65526\n"
     ]
    }
   ],
   "source": [
    "# Identify numeric columns\n",
    "numeric_columns = data.select_dtypes(include=['int64', 'float64']).columns\n",
    "print(\"Numeric Columns:\\n\", numeric_columns)\n",
    "    \n",
    "# Calculate and display the range for each numeric column\n",
    "for col in numeric_columns:\n",
    "    min_value = data[col].min()\n",
    "    max_value = data[col].max()\n",
    "    print(f\"Range for '{col}': Min = {min_value}, Max = {max_value}\")"
   ]
  },
  {
   "cell_type": "code",
   "execution_count": 72,
   "id": "cf49896a",
   "metadata": {},
   "outputs": [
    {
     "name": "stdout",
     "output_type": "stream",
     "text": [
      "No missing values in the dataset.\n"
     ]
    }
   ],
   "source": [
    "# Check for missing values\n",
    "missing_values = data.isnull().sum()\n",
    "    \n",
    "# Filter out attributes with no missing values\n",
    "missing_values = missing_values[missing_values > 0]\n",
    "    \n",
    "if missing_values.empty:\n",
    "    print(\"No missing values in the dataset.\")\n",
    "else:\n",
    "    print(\"Missing Values:\\n\", missing_values)"
   ]
  },
  {
   "cell_type": "code",
   "execution_count": 75,
   "id": "70eb347b",
   "metadata": {},
   "outputs": [
    {
     "name": "stdout",
     "output_type": "stream",
     "text": [
      "Numeric Columns:\n",
      " Index(['Record ID', 'age'], dtype='object')\n",
      "Outliers (IQR method):\n",
      "Column 'age':\n",
      "Outliers count: 4\n",
      "        age\n",
      "2976    455\n",
      "5710  65511\n",
      "6392  65512\n",
      "8105  65526\n"
     ]
    }
   ],
   "source": [
    "# Identify numeric columns\n",
    "numeric_columns = data.select_dtypes(include=['int64', 'float64']).columns\n",
    "print(\"Numeric Columns:\\n\", numeric_columns)\n",
    "    \n",
    "# Calculate and display outliers using IQR method\n",
    "print(\"Outliers (IQR method):\")\n",
    "for col in numeric_columns:\n",
    "    Q1 = data[col].quantile(0.25)\n",
    "    Q3 = data[col].quantile(0.75)\n",
    "    IQR = Q3 - Q1\n",
    "        \n",
    "# Define outlier boundaries\n",
    "lower_bound = Q1 - 1.5 * IQR\n",
    "upper_bound = Q3 + 1.5 * IQR\n",
    "        \n",
    "# Find outliers\n",
    "outliers = data[(data[col] < lower_bound) | (data[col] > upper_bound)]\n",
    "print(f\"Column '{col}':\")\n",
    "print(\"Outliers count:\", outliers.shape[0])\n",
    "print(outliers[[col]].head())"
   ]
  },
  {
   "cell_type": "code",
   "execution_count": 76,
   "id": "f0f9ca71",
   "metadata": {},
   "outputs": [
    {
     "name": "stdout",
     "output_type": "stream",
     "text": [
      "Numeric Columns:\n",
      " Index(['Record ID', 'age'], dtype='object')\n",
      "\n",
      "Column 'Record ID':\n",
      "Mean = 852947346.61\n",
      "Variance = 57486250586150.34\n",
      "Standard Deviation = 7581968.78\n",
      "\n",
      "Column 'age':\n",
      "Mean = 73.56\n",
      "Variance = 1401800.87\n",
      "Standard Deviation = 1183.98\n"
     ]
    }
   ],
   "source": [
    "# Identify numeric columns\n",
    "numeric_columns = data.select_dtypes(include=['int64', 'float64']).columns\n",
    "print(\"Numeric Columns:\\n\", numeric_columns)\n",
    "\n",
    "for col in numeric_columns:\n",
    "    mean = data[col].mean()\n",
    "    variance = data[col].var()\n",
    "    std_dev = data[col].std()\n",
    "\n",
    "    print(f\"\\nColumn '{col}':\")\n",
    "    print(f\"Mean = {mean:.2f}\")\n",
    "    print(f\"Variance = {variance:.2f}\")\n",
    "    print(f\"Standard Deviation = {std_dev:.2f}\")"
   ]
  },
  {
   "cell_type": "code",
   "execution_count": null,
   "id": "0b72dea9",
   "metadata": {},
   "outputs": [],
   "source": []
  }
 ],
 "metadata": {
  "kernelspec": {
   "display_name": "Python 3 (ipykernel)",
   "language": "python",
   "name": "python3"
  },
  "language_info": {
   "codemirror_mode": {
    "name": "ipython",
    "version": 3
   },
   "file_extension": ".py",
   "mimetype": "text/x-python",
   "name": "python",
   "nbconvert_exporter": "python",
   "pygments_lexer": "ipython3",
   "version": "3.11.5"
  }
 },
 "nbformat": 4,
 "nbformat_minor": 5
}
